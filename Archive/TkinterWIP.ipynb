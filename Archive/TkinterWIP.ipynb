{
 "cells": [
  {
   "cell_type": "code",
   "execution_count": 31,
   "metadata": {},
   "outputs": [
    {
     "name": "stdout",
     "output_type": "stream",
     "text": [
      "2.7.14 |Anaconda, Inc.| (default, Nov  8 2017, 13:40:45) [MSC v.1500 64 bit (AMD64)]\n",
      "C:\\ProgramData\\Anaconda2\\python.exe\n"
     ]
    }
   ],
   "source": [
    "import sys\n",
    "print(sys.version)\n",
    "print(sys.executable)"
   ]
  },
  {
   "cell_type": "code",
   "execution_count": 1,
   "metadata": {},
   "outputs": [],
   "source": [
    "from Tkinter import *"
   ]
  },
  {
   "cell_type": "code",
   "execution_count": 32,
   "metadata": {},
   "outputs": [
    {
     "name": "stdout",
     "output_type": "stream",
     "text": [
      "I got 414479 bytes from this file.\n"
     ]
    }
   ],
   "source": [
    "import Tkinter, tkFileDialog\n",
    "\n",
    "root = Tkinter.Tk()\n",
    "file = tkFileDialog.askopenfile(parent=root,mode='rb',title='Choose a file')\n",
    "if file != None:\n",
    "    data = file.read()\n",
    "    file.close()\n",
    "    print \"I got %d bytes from this file.\" % len(data)\n",
    "root.mainloop()"
   ]
  },
  {
   "cell_type": "code",
   "execution_count": 3,
   "metadata": {},
   "outputs": [],
   "source": [
    "from Tkinter import *\n",
    "\n",
    "root = Tk()\n",
    "\n",
    "lblName = Label(root, text='Name')\n",
    "lblPwd = Label(root, text='Password')\n",
    "txtName = Entry(root)\n",
    "txtPwd = Entry(root)\n",
    "\n",
    "lblName.grid(row=0, sticky=E)\n",
    "lblPwd.grid(row=1, sticky=E)\n",
    "\n",
    "txtName.grid(row=0, column=1)\n",
    "txtPwd.grid(row=1, column=1)\n",
    "\n",
    "rmbrChk = Checkbutton(root, text=\"Keep me logged in\")\n",
    "rmbrChk.grid(columnspan=2)\n",
    "\n",
    "root.mainloop()"
   ]
  },
  {
   "cell_type": "code",
   "execution_count": 3,
   "metadata": {},
   "outputs": [],
   "source": [
    "import Tkinter as tk\n",
    "\n",
    "def click(row, col):\n",
    "    label.configure(text=\"you clicked row %s column %s\" % (row, col))\n",
    "\n",
    "root = tk.Tk()\n",
    "for row in range(10):\n",
    "    for col in range(10):\n",
    "        button = tk.Button(root, text=\"%s,%s\" % (row, col), \n",
    "                           command=lambda row=row, col=col: click(row, col))\n",
    "        button.grid(row=row, column=col, sticky=\"nsew\")\n",
    "label = tk.Label(root, text=\"\")\n",
    "label.grid(row=10, column=0, columnspan=10, sticky=\"new\")\n",
    "\n",
    "root.grid_rowconfigure(10, weight=1)\n",
    "root.grid_columnconfigure(10, weight=1)\n",
    "\n",
    "root.mainloop()"
   ]
  },
  {
   "cell_type": "code",
   "execution_count": 47,
   "metadata": {},
   "outputs": [],
   "source": [
    "from Tkinter import *\n",
    "\n",
    "root = Tk()\n",
    "\n",
    "root.geometry('500x500')\n",
    "\n",
    "brwsBtn = Button(root, text=\"Browse\")\n",
    "brwsBtn.grid(row=5, column=3)\n",
    "\n",
    "root.mainloop()"
   ]
  },
  {
   "cell_type": "code",
   "execution_count": null,
   "metadata": {},
   "outputs": [
    {
     "name": "stdout",
     "output_type": "stream",
     "text": [
      "I got 209273 bytes from this file.\n"
     ]
    }
   ],
   "source": [
    "#MENU \n",
    "from Tkinter import *\n",
    "from Tkinter import Menu\n",
    "import tkFileDialog\n",
    "import Tkconstants\n",
    "import tkMessageBox\n",
    " \n",
    "root = Tk()\n",
    "root.title(\"test\")\n",
    "\n",
    "root.geometry('500x500')\n",
    "\n",
    "def hello():\n",
    "      print \"hello!\"\n",
    "    \n",
    "def fleOpen():\n",
    "    file = tkFileDialog.askopenfile(parent=root,mode='rb',title='Choose a file')\n",
    "    if file != None:\n",
    "        data = file.read()\n",
    "        file.close()\n",
    "        print \"I got %d bytes from this file.\" % len(data)\n",
    "\n",
    "def fleSave():\n",
    "    root.filename = tkFileDialog.asksaveasfilename(initialdir = \"/\",title = \"Select file\",filetypes = ((\"jpeg files\",\"*.jpg\"),(\"all files\",\"*.*\")))\n",
    "    print (root.filename)\n",
    "    tkMessageBox.showinfo(\"File Save\", root.filename)\n",
    "    \n",
    "menu = Menu(root)\n",
    "new_item = Menu(menu)\n",
    "\n",
    "filemenu = Menu(menu, tearoff=0)\n",
    "filemenu.add_command(label=\"Open\", command=hello)\n",
    "filemenu.add_command(label=\"Save\", command=hello)\n",
    "filemenu.add_separator()\n",
    "filemenu.add_command(label=\"Exit\", command=root.destroy)\n",
    "menu.add_cascade(label=\"File\", menu=filemenu)\n",
    "\n",
    "brwsLbl1=Label(root)\n",
    "brwsLbl1.grid(row=3, column=2)\n",
    "\n",
    "brwsBtn=Button(root, text=\"Browse\", command=fleOpen)\n",
    "brwsBtn.grid(row=2, column=1)\n",
    "\n",
    "brwsLbl=Label(root)\n",
    "brwsLbl.grid(row=3, column=2)\n",
    "\n",
    "sveAsBtn=Button(root, text=\"Save As\", command=fleSave)\n",
    "sveAsBtn.grid(row=10, column=3)\n",
    " \n",
    "root.config(menu=menu)\n",
    "root.mainloop()"
   ]
  },
  {
   "cell_type": "code",
   "execution_count": null,
   "metadata": {},
   "outputs": [],
   "source": []
  }
 ],
 "metadata": {
  "kernelspec": {
   "display_name": "Python 2",
   "language": "python",
   "name": "python2"
  },
  "language_info": {
   "codemirror_mode": {
    "name": "ipython",
    "version": 2
   },
   "file_extension": ".py",
   "mimetype": "text/x-python",
   "name": "python",
   "nbconvert_exporter": "python",
   "pygments_lexer": "ipython2",
   "version": "2.7.14"
  }
 },
 "nbformat": 4,
 "nbformat_minor": 2
}
