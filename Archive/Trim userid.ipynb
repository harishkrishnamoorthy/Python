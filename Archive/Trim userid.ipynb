{
 "cells": [
  {
   "cell_type": "code",
   "execution_count": 166,
   "metadata": {},
   "outputs": [],
   "source": [
    "import pandas as pd\n",
    "import numpy as np\n",
    "import nltk\n",
    "from nltk.stem.wordnet import WordNetLemmatizer\n",
    "import en"
   ]
  },
  {
   "cell_type": "code",
   "execution_count": 167,
   "metadata": {},
   "outputs": [],
   "source": [
    "from nltk.corpus import state_union\n",
    "from nltk.tokenize import PunktSentenceTokenizer\n",
    "train_text = state_union.raw(\"2005-GWBush.txt\")\n",
    "custom_sent_tokenizer = PunktSentenceTokenizer(train_text)"
   ]
  },
  {
   "cell_type": "code",
   "execution_count": 194,
   "metadata": {},
   "outputs": [
    {
     "data": {
      "text/html": [
       "<div>\n",
       "<style scoped>\n",
       "    .dataframe tbody tr th:only-of-type {\n",
       "        vertical-align: middle;\n",
       "    }\n",
       "\n",
       "    .dataframe tbody tr th {\n",
       "        vertical-align: top;\n",
       "    }\n",
       "\n",
       "    .dataframe thead th {\n",
       "        text-align: right;\n",
       "    }\n",
       "</style>\n",
       "<table border=\"1\" class=\"dataframe\">\n",
       "  <thead>\n",
       "    <tr style=\"text-align: right;\">\n",
       "      <th></th>\n",
       "      <th>Unnamed: 0</th>\n",
       "      <th>TEST_ID</th>\n",
       "      <th>ActualResult</th>\n",
       "    </tr>\n",
       "  </thead>\n",
       "  <tbody>\n",
       "    <tr>\n",
       "      <th>0</th>\n",
       "      <td>0</td>\n",
       "      <td>1</td>\n",
       "      <td>The Assets tab is highlighted and the new Asse...</td>\n",
       "    </tr>\n",
       "    <tr>\n",
       "      <th>1</th>\n",
       "      <td>1</td>\n",
       "      <td>1</td>\n",
       "      <td>The following fields are displayed in the 1st ...</td>\n",
       "    </tr>\n",
       "  </tbody>\n",
       "</table>\n",
       "</div>"
      ],
      "text/plain": [
       "   Unnamed: 0  TEST_ID                                       ActualResult\n",
       "0           0        1  The Assets tab is highlighted and the new Asse...\n",
       "1           1        1  The following fields are displayed in the 1st ..."
      ]
     },
     "execution_count": 194,
     "metadata": {},
     "output_type": "execute_result"
    }
   ],
   "source": [
    "df = pd.read_csv('FinalOut_1.csv')\n",
    "df.shape\n",
    "#To display\n",
    "df.head(2)"
   ]
  },
  {
   "cell_type": "code",
   "execution_count": 195,
   "metadata": {},
   "outputs": [
    {
     "name": "stdout",
     "output_type": "stream",
     "text": [
      "The Assets tab is highlighted and the new Assets screen is displayed.\r",
      "\r\n",
      "\r",
      "\r\n",
      "  \n",
      "The following fields are displayed in the 1st section of the Asset page.\r",
      "\r\n",
      "\r",
      "\r\n",
      "1.Asset \r",
      "\r\n",
      "2.Short description - text box(required field)\r",
      "\r\n",
      "3.Status\r",
      "\r\n",
      "4.Site\r",
      "\r\n",
      "5.Asset Type - Value list\r",
      "\r\n",
      "6.Attachments\r",
      "\r\n",
      "7.Moved? - checkbox.\r",
      "\r\n",
      "\r",
      "\r\n",
      "\r",
      "\r\n",
      "\r",
      "\r\n",
      "  [User: a3k7kzz]  [sdfsdfsdfsdfff]   \n"
     ]
    }
   ],
   "source": [
    "for test_case in list(df[\"ActualResult\"]):\n",
    "    print(test_case[:test_case.rfind(\"[\")])"
   ]
  },
  {
   "cell_type": "code",
   "execution_count": 165,
   "metadata": {},
   "outputs": [
    {
     "name": "stdout",
     "output_type": "stream",
     "text": [
      "['The Assets tab is highlighted and the new Assets screen is displayed.']['The following fields are displayed in the 1st section of the Asset page.', '1.Asset \\r\\r\\n2.Short description - text box(required field)\\r\\r\\n3.Status\\r\\r\\n4.Site\\r\\r\\n5.Asset Type - Value list\\r\\r\\n6.Attachments\\r\\r\\n7.Moved?', '- checkbox.']\n",
      "['The Assets tab is highlighted and the new Assets screen is displayed.']['The following fields are displayed in the 1st section of the Asset page.', '1.Asset \\r\\r\\n2.Short description - text box(required field)\\r\\r\\n3.Status\\r\\r\\n4.Site\\r\\r\\n5.Asset Type - Value list\\r\\r\\n6.Attachments\\r\\r\\n7.Moved?', '- checkbox.']\n"
     ]
    }
   ],
   "source": [
    "#print(all_out)\n",
    "#for alltostr in all_out:\n",
    "trimtxt = ''.join(str(e) for e in all_out)\n",
    "print (trimtxt)\n",
    "trimtxt.replace(\"[\", \"was\")\n",
    "print(trimtxt)"
   ]
  },
  {
   "cell_type": "code",
   "execution_count": null,
   "metadata": {},
   "outputs": [],
   "source": [
    "\n",
    "    #if (all_out.startswith(\"[\")):\n",
    " #       return all_out[1:-1]\n",
    "  #  return all_out"
   ]
  },
  {
   "cell_type": "code",
   "execution_count": 162,
   "metadata": {},
   "outputs": [],
   "source": [
    "df1 = pd.DataFrame(columns=['out'])\n",
    "se = pd.Series(xyz)\n",
    "df1['out'] = se.values"
   ]
  },
  {
   "cell_type": "code",
   "execution_count": 163,
   "metadata": {},
   "outputs": [
    {
     "data": {
      "text/html": [
       "<div>\n",
       "<style scoped>\n",
       "    .dataframe tbody tr th:only-of-type {\n",
       "        vertical-align: middle;\n",
       "    }\n",
       "\n",
       "    .dataframe tbody tr th {\n",
       "        vertical-align: top;\n",
       "    }\n",
       "\n",
       "    .dataframe thead th {\n",
       "        text-align: right;\n",
       "    }\n",
       "</style>\n",
       "<table border=\"1\" class=\"dataframe\">\n",
       "  <thead>\n",
       "    <tr style=\"text-align: right;\">\n",
       "      <th></th>\n",
       "      <th>out</th>\n",
       "    </tr>\n",
       "  </thead>\n",
       "  <tbody>\n",
       "    <tr>\n",
       "      <th>0</th>\n",
       "      <td>['The Assets tab is highlighted and the new As...</td>\n",
       "    </tr>\n",
       "  </tbody>\n",
       "</table>\n",
       "</div>"
      ],
      "text/plain": [
       "                                                 out\n",
       "0  ['The Assets tab is highlighted and the new As..."
      ]
     },
     "execution_count": 163,
     "metadata": {},
     "output_type": "execute_result"
    }
   ],
   "source": [
    "df1.shape\n",
    "df1.head(2)"
   ]
  },
  {
   "cell_type": "code",
   "execution_count": 164,
   "metadata": {},
   "outputs": [],
   "source": [
    "df1.to_csv('Converted_Actual5.csv', encoding='utf-8')"
   ]
  },
  {
   "cell_type": "code",
   "execution_count": 179,
   "metadata": {},
   "outputs": [],
   "source": [
    "str1 = 'testing'"
   ]
  },
  {
   "cell_type": "code",
   "execution_count": 188,
   "metadata": {},
   "outputs": [
    {
     "name": "stdout",
     "output_type": "stream",
     "text": [
      "sting\n"
     ]
    }
   ],
   "source": [
    "print(str1[2:])"
   ]
  },
  {
   "cell_type": "code",
   "execution_count": null,
   "metadata": {},
   "outputs": [],
   "source": []
  }
 ],
 "metadata": {
  "kernelspec": {
   "display_name": "Python 2",
   "language": "python",
   "name": "python2"
  },
  "language_info": {
   "codemirror_mode": {
    "name": "ipython",
    "version": 2
   },
   "file_extension": ".py",
   "mimetype": "text/x-python",
   "name": "python",
   "nbconvert_exporter": "python",
   "pygments_lexer": "ipython2",
   "version": "2.7.14"
  }
 },
 "nbformat": 4,
 "nbformat_minor": 2
}
