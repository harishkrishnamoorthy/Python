{
 "cells": [
  {
   "cell_type": "code",
   "execution_count": 1,
   "metadata": {},
   "outputs": [],
   "source": [
    "from Tkinter import *\n",
    "from Tkinter import Menu"
   ]
  },
  {
   "cell_type": "code",
   "execution_count": 3,
   "metadata": {},
   "outputs": [],
   "source": [
    "# write df to excel sheet\n",
    "import pandas as pd\n",
    "import datetime\n",
    "\n",
    "time = datetime.datetime.now().strftime(\"%Y_%m_%d_%H%M%S\")\n",
    "\n",
    "df1 = pd.DataFrame({'Data': [10, 20, 30, 20, 15, 30, 45]})\n",
    "df2 = pd.DataFrame({'Data': [10, 20, 30, 20, 15, 30, 45]})\n",
    "df3 = pd.DataFrame({'Data': [10, 20, 30, 20, 15, 30, 45]})\n",
    "with pd.ExcelWriter ('C:\\\\Users\\\\A6LBGZZ\\\\Bots\\\\./Trial{}.xlsx'.format(time)) as writer:\n",
    "        df1.to_excel(writer, sheet_name='1')\n",
    "        df2.to_excel(writer, sheet_name='2')\n",
    "        df3.to_excel(writer, sheet_name='3')\n",
    "        writer.save()"
   ]
  },
  {
   "cell_type": "code",
   "execution_count": 33,
   "metadata": {},
   "outputs": [],
   "source": [
    "#Auto fit all columns in excel sheet\n",
    "import win32com.client as win32\n",
    "excel = win32.gencache.EnsureDispatch('Excel.Application')\n",
    "wb = excel.Workbooks.Open('C:\\Users\\A6LBGZZ\\Bots\\SummaryFileProposed.xlsx')\n",
    "ws = wb.Worksheets(\"TSR\")\n",
    "ws.Columns.AutoFit()\n",
    "wb.Save()\n",
    "excel.Application.Quit()"
   ]
  },
  {
   "cell_type": "code",
   "execution_count": 7,
   "metadata": {},
   "outputs": [
    {
     "name": "stdout",
     "output_type": "stream",
     "text": [
      "2018_04_27_181614\n"
     ]
    }
   ],
   "source": [
    "import datetime\n",
    "time = datetime.datetime.now().strftime(\"%Y_%m_%d_%H%M%S\")\n",
    "print (time)\n",
    "to_csv('./FinalOutput_{}.csv'.format(time))"
   ]
  },
  {
   "cell_type": "code",
   "execution_count": null,
   "metadata": {},
   "outputs": [],
   "source": [
    "'''df['TEST_ID'] = df['TEST_ID'].apply(lambda x: unicode(x))\n",
    "            df['test_step_name'] = df['test_step_name'].apply(lambda x: unicode(x))\n",
    "            df['Expect_res'] = df['Expect_res'].apply(lambda x: unicode(x))\n",
    "            df['actualresult'] = df['actualresult'].apply(lambda x: unicode(x))\n",
    "            df['Converted_Expected'] = df['Converted_Expected'].apply(lambda x: unicode(x))\n",
    "            df['Converted_Actual'] = df['Converted_Actual'].apply(lambda x: unicode(x))\n",
    "            df['Compare_result'] = df['Compare_result'].apply(lambda x: unicode(x))\n",
    "            \n",
    "            df.to_excel('./FinalOutput_{}.xlsx'.format(time), encoding='utf-8', index = False)\n",
    "            \n",
    "            import win32com.client as win32\n",
    "            excel = win32.gencache.EnsureDispatch('Excel.Application')\n",
    "            wb = excel.Workbooks.Open('C:\\Users\\A6LBGZZ\\Bots\\Out1.csv')\n",
    "            ws = wb.Worksheets(\"Out1\")\n",
    "            ws.Columns.AutoFit()\n",
    "            wb.Save()\n",
    "            excel.Application.Quit()'''"
   ]
  },
  {
   "cell_type": "code",
   "execution_count": 22,
   "metadata": {},
   "outputs": [],
   "source": [
    "from Tkinter import *\n",
    "import tkMessageBox\n",
    "import Tkinter\n",
    "\n",
    "top = Tkinter.Tk()\n",
    "\n",
    "\n",
    "def helloCallBack():\n",
    "    tkMessageBox.showinfo( \"Hello Python\", \"Hello World\")\n",
    "    \n",
    "def close_window(): \n",
    "    top.destroy()\n",
    "\n",
    "top.geometry('250x250')\n",
    "top.resizable(False, False)\n",
    "\n",
    "prcsBtn = Tkinter.Button(top, text = \"BROWSE & PROCESS\", command = helloCallBack)\n",
    "#exitBtn = Tkinter.Button(top, text = \"EXIT\", command = close_window)\n",
    "\n",
    "prcsBtn.pack()\n",
    "#exitBtn.pack()\n",
    "prcsBtn.place(relheight = 0.25, relwidth = 1.0)\n",
    "#exitBtn.place(relheight = 0.25, relwidth = 1.0)\n",
    "top.mainloop()"
   ]
  },
  {
   "cell_type": "code",
   "execution_count": 11,
   "metadata": {},
   "outputs": [],
   "source": [
    "from Tkinter import *\n",
    "\n",
    "top = Tkinter.Tk()\n",
    "top.geometry('500x500')\n",
    "top.resizable(False, False)\n",
    "\n",
    "brwsBtn=Button(top, text=\"Browse\")\n",
    "#brwsBtn.grid(row=2, column=1)\n",
    "brwsBtn.place(bordermode = INSIDE,height = 80,width = 80)\n",
    "brwsBtn.place(relx=.5, rely=.5, anchor=\"c\") \n",
    "\n",
    "status_bar_frame = Frame(top, bg=\"#dfdfdf\")\n",
    "status_bar_frame.grid(row=3, column=0, columnspan=2, sticky=\"we\")\n",
    "\n",
    "status_bar = Label(status_bar_frame, text=\"status bar\", bg=\"#dfdfdf\")\n",
    "status_bar.pack()\n",
    "\n",
    "top.mainloop()"
   ]
  },
  {
   "cell_type": "code",
   "execution_count": 53,
   "metadata": {},
   "outputs": [
    {
     "data": {
      "text/plain": [
       "<__main__.Example instance at 0x0000000006B87208>"
      ]
     },
     "execution_count": 53,
     "metadata": {},
     "output_type": "execute_result"
    }
   ],
   "source": [
    "import Tkinter as tk\n",
    "\n",
    "class Example():\n",
    "    def __init__(self):\n",
    "        self.root = tk.Tk()\n",
    "        self.root.title(\"Test Results Review\")\n",
    "\n",
    "        # menu left\n",
    "        self.menu_left = tk.Frame(self.root, width=150, bg=\"#ababab\")\n",
    "        self.menu_left_upper = tk.Frame(self.menu_left, width=10, height=120, bg=\"red\")\n",
    "        self.menu_left_lower = tk.Frame(self.menu_left, width=10, bg=\"blue\")\n",
    "\n",
    "        #self.test = tk.Label(self.menu_left_upper, text=\"test\")\n",
    "        #self.test.pack()\n",
    "\n",
    "        self.menu_left_upper.pack(side=\"top\", fill=\"both\", expand=True)\n",
    "        self.menu_left_lower.pack(side=\"top\", fill=\"both\", expand=True)\n",
    "\n",
    "        # right area\n",
    "        self.some_title_frame = tk.Frame(self.root, bg=\"#4b94c1\")\n",
    "\n",
    "        self.some_title = tk.Label(self.some_title_frame, text=\"TEST RESULTS REVIEW\", bg=\"#4b94c1\",font='Arial 16 bold')\n",
    "        self.some_title.pack()\n",
    "\n",
    "        self.canvas_area = tk.Canvas(self.root, width=300, height=250, background=\"#ffffff\")\n",
    "        self.canvas_area.grid(row=1, column=1)\n",
    "        \n",
    "        self.prcsBtn=Button(self.canvas_area, text=\"BROWSE & PROCESS\")\n",
    "        self.prcsBtn.place(bordermode = OUTSIDE, height=50, width=125, relx=.1, rely=.2, anchor=\"c\")\n",
    "\n",
    "        self.fileLbl = tk.Label(self.canvas_area, text=\"C:\\Users\\A6LBGZZ\\Bots\\Archive\\SAMS_Test_runs_20122019.csv\", background=\"#ffffff\")\n",
    "        self.fileLbl.place(height=20, width=500, relx=.8, rely=0.4, anchor=\"e\")\n",
    "        \n",
    "        prcsBtn=Button(self.canvas_area, text=\"CLOSE\")\n",
    "        prcsBtn.place(bordermode=INSIDE, height=50, width=125, relx=.5, rely=0.6, anchor=\"c\") \n",
    "\n",
    "        # status bar\n",
    "        self.status_frame = tk.Frame(self.root)\n",
    "        self.status = tk.Label(self.status_frame, text=\"this is the status bar\")\n",
    "        self.status.pack(fill=\"both\", expand=True)\n",
    "\n",
    "        self.menu_left.grid(row=0, column=0, rowspan=2, sticky=\"nsew\")\n",
    "        self.some_title_frame.grid(row=0, column=1, sticky=\"ew\")\n",
    "        self.canvas_area.grid(row=1, column=1, sticky=\"nsew\") \n",
    "        self.status_frame.grid(row=2, column=0, columnspan=2, sticky=\"w\")\n",
    "\n",
    "        self.root.grid_rowconfigure(1, weight=1)\n",
    "        self.root.grid_columnconfigure(1, weight=1)\n",
    "\n",
    "        self.root.mainloop()\n",
    "        \n",
    "Example()"
   ]
  },
  {
   "cell_type": "code",
   "execution_count": 54,
   "metadata": {},
   "outputs": [
    {
     "name": "stdout",
     "output_type": "stream",
     "text": [
      "Hello!\n",
      "Hello!\n"
     ]
    }
   ],
   "source": [
    "s = \"Hello!\"\n",
    "u = unicode(s, \"utf-8\")\n",
    "print (u)\n",
    "print (s)"
   ]
  },
  {
   "cell_type": "code",
   "execution_count": 13,
   "metadata": {
    "collapsed": true
   },
   "outputs": [
    {
     "name": "stdout",
     "output_type": "stream",
     "text": [
      "('System', 'Terminal', 'Fixedsys', 'Modern', 'Roman', 'Script', 'Courier', 'MS Serif', 'MS Sans Serif', 'Small Fonts', 'Marlett', 'Arial', 'Arabic Transparent', 'Arial Baltic', 'Arial CE', 'Arial CYR', 'Arial Greek', 'Arial TUR', 'Batang', '@Batang', 'BatangChe', '@BatangChe', 'Gungsuh', '@Gungsuh', 'GungsuhChe', '@GungsuhChe', 'Courier New', 'Courier New Baltic', 'Courier New CE', 'Courier New CYR', 'Courier New Greek', 'Courier New TUR', 'DaunPenh', 'DokChampa', 'Estrangelo Edessa', 'Euphemia', 'Gautami', 'Vani', 'Gulim', '@Gulim', 'GulimChe', '@GulimChe', 'Dotum', '@Dotum', 'DotumChe', '@DotumChe', 'Impact', 'Iskoola Pota', 'Kalinga', 'Kartika', 'Khmer UI', 'Lao UI', 'Latha', 'Lucida Console', 'Malgun Gothic', '@Malgun Gothic', 'Mangal', 'Meiryo', '@Meiryo', 'Meiryo UI', '@Meiryo UI', 'Microsoft Himalaya', 'Microsoft JhengHei', '@Microsoft JhengHei', 'Microsoft YaHei', '@Microsoft YaHei', 'MingLiU', '@MingLiU', 'PMingLiU', '@PMingLiU', 'MingLiU_HKSCS', '@MingLiU_HKSCS', 'MingLiU-ExtB', '@MingLiU-ExtB', 'PMingLiU-ExtB', '@PMingLiU-ExtB', 'MingLiU_HKSCS-ExtB', '@MingLiU_HKSCS-ExtB', 'Mongolian Baiti', 'MS Gothic', '@MS Gothic', 'MS PGothic', '@MS PGothic', 'MS UI Gothic', '@MS UI Gothic', 'MS Mincho', '@MS Mincho', 'MS PMincho', '@MS PMincho', 'MV Boli', 'Microsoft New Tai Lue', 'Nyala', 'Microsoft PhagsPa', 'Plantagenet Cherokee', 'Raavi', 'Segoe Script', 'Segoe UI', 'Segoe UI Semibold', 'Segoe UI Light', 'Segoe UI Symbol', 'Shruti', 'SimSun', '@SimSun', 'NSimSun', '@NSimSun', 'SimSun-ExtB', '@SimSun-ExtB', 'Sylfaen', 'Microsoft Tai Le', 'Times New Roman', 'Times New Roman Baltic', 'Times New Roman CE', 'Times New Roman CYR', 'Times New Roman Greek', 'Times New Roman TUR', 'Tunga', 'Vrinda', 'Shonar Bangla', 'Microsoft Yi Baiti', 'Tahoma', 'Microsoft Sans Serif', 'Angsana New', 'Aparajita', 'Cordia New', 'Ebrima', 'Gisha', 'Kokila', 'MoolBoran', 'Symbol', 'Utsaah', 'Vijaya', 'Wingdings', 'Andalus', 'Arabic Typesetting', 'Simplified Arabic', 'Simplified Arabic Fixed', 'Sakkal Majalla', 'Traditional Arabic', 'Aharoni', 'David', 'FrankRuehl', 'Levenim MT', 'Miriam', 'Miriam Fixed', 'Narkisim', 'Rod', 'FangSong', '@FangSong', 'SimHei', '@SimHei', 'KaiTi', '@KaiTi', 'AngsanaUPC', 'Browallia New', 'BrowalliaUPC', 'CordiaUPC', 'DilleniaUPC', 'EucrosiaUPC', 'FreesiaUPC', 'IrisUPC', 'JasmineUPC', 'KodchiangUPC', 'LilyUPC', 'DFKai-SB', '@DFKai-SB', 'Lucida Sans Unicode', 'Arial Black', 'Calibri', 'Cambria', 'Cambria Math', 'Candara', 'Comic Sans MS', 'Consolas', 'Constantia', 'Corbel', 'Franklin Gothic Medium', 'Gabriola', 'Georgia', 'Palatino Linotype', 'Segoe Print', 'Trebuchet MS', 'Verdana', 'Webdings', '3M Circular TT Bold', '3M Circular TT Book', '3M Circular TT Light', 'Nirmala UI', 'Agency FB', 'Algerian', 'Book Antiqua', 'Arial Narrow', 'Arial Rounded MT Bold', 'Baskerville Old Face', 'Bauhaus 93', 'Bell MT', 'Bernard MT Condensed', 'Bodoni MT', 'Bodoni MT Black', 'Bodoni MT Condensed', 'Bodoni MT Poster Compressed', 'Bookman Old Style', 'Bradley Hand ITC', 'Britannic Bold', 'Berlin Sans FB', 'Berlin Sans FB Demi', 'Broadway', 'Brush Script MT', 'Bookshelf Symbol 7', 'Californian FB', 'Calisto MT', 'Castellar', 'Century Schoolbook', 'Centaur', 'Chiller', 'Colonna MT', 'Cooper Black', 'Copperplate Gothic Bold', 'Copperplate Gothic Light', 'Curlz MT', 'Elephant', 'Engravers MT', 'Eras Bold ITC', 'Eras Demi ITC', 'Eras Light ITC', 'Eras Medium ITC', 'Felix Titling', 'Forte', 'Franklin Gothic Book', 'Franklin Gothic Demi', 'Franklin Gothic Demi Cond', 'Franklin Gothic Heavy', 'Franklin Gothic Medium Cond', 'Freestyle Script', 'French Script MT', 'Footlight MT Light', 'Garamond', 'Gigi', 'Gill Sans MT', 'Gill Sans MT Condensed', 'Gill Sans Ultra Bold Condensed', 'Gill Sans Ultra Bold', 'Gloucester MT Extra Condensed', 'Gill Sans MT Ext Condensed Bold', 'Century Gothic', 'Goudy Old Style', 'Goudy Stout', 'Harlow Solid Italic', 'Harrington', 'Haettenschweiler', 'High Tower Text', 'Imprint MT Shadow', 'Informal Roman', 'Blackadder ITC', 'Edwardian Script ITC', 'Kristen ITC', 'Jokerman', 'Juice ITC', 'Kunstler Script', 'Wide Latin', 'Lucida Bright', 'Lucida Calligraphy', 'Lucida Fax', 'Lucida Handwriting', 'Lucida Sans', 'Lucida Sans Typewriter', 'Magneto', 'Maiandra GD', 'Matura MT Script Capitals', 'Mistral', 'Modern No. 20', 'Monotype Corsiva', 'Niagara Engraved', 'Niagara Solid', 'OCR A Extended', 'Old English Text MT', 'Onyx', 'MS Outlook', 'Palace Script MT', 'Papyrus', 'Parchment', 'Perpetua', 'Perpetua Titling MT', 'Playbill', 'Poor Richard', 'Pristina', 'Rage Italic', 'Ravie', 'MS Reference Sans Serif', 'MS Reference Specialty', 'Rockwell Condensed', 'Rockwell', 'Rockwell Extra Bold', 'Script MT Bold', 'Showcard Gothic', 'Snap ITC', 'Stencil', 'Tw Cen MT', 'Tw Cen MT Condensed', 'Tw Cen MT Condensed Extra Bold', 'Tempus Sans ITC', 'Viner Hand ITC', 'Vivaldi', 'Vladimir Script', 'Arial monospaced for SAP', 'SAPDings', 'SAPIcons', 'SAPGUI-Icons', 'MT Extra', 'Arial Unicode MS', '@Arial Unicode MS', 'Century', 'Calibri Light', 'Gadugi', 'Leelawadee', 'Microsoft JhengHei UI', '@Microsoft JhengHei UI', 'Microsoft Uighur', 'Microsoft YaHei UI', '@Microsoft YaHei UI', 'Segoe UI Semilight', 'Wingdings 2', 'Wingdings 3', 'Expressway Rg')\n",
      "('fixed', 'oemfixed', 'TkDefaultFont', 'TkMenuFont', 'ansifixed', 'systemfixed', 'TkHeadingFont', 'device', 'TkTooltipFont', 'defaultgui', 'TkTextFont', 'ansi', 'TkCaptionFont', 'system', 'TkSmallCaptionFont', 'TkFixedFont', 'TkIconFont')\n"
     ]
    }
   ],
   "source": [
    "import sys\n",
    "if sys.version_info.major is 3:\n",
    "    import tkinter as Tk, tkinter.font as tkFont\n",
    "else:\n",
    "    import Tkinter as Tk, tkFont\n",
    "root = Tk.Tk()\n",
    "print(tkFont.families())\n",
    "print(tkFont.names())"
   ]
  },
  {
   "cell_type": "code",
   "execution_count": null,
   "metadata": {},
   "outputs": [],
   "source": [
    "for test_case in list(df[\"Expect_res\"]):\n",
    "        stmt_lst = custom_sent_tokenizer.tokenize(test_case)\n",
    "        try:"
   ]
  },
  {
   "cell_type": "code",
   "execution_count": 57,
   "metadata": {},
   "outputs": [
    {
     "data": {
      "text/plain": [
       "u'0.22.0'"
      ]
     },
     "execution_count": 57,
     "metadata": {},
     "output_type": "execute_result"
    }
   ],
   "source": [
    "pd.__version__"
   ]
  },
  {
   "cell_type": "code",
   "execution_count": 62,
   "metadata": {},
   "outputs": [],
   "source": [
    "import pandas as pd\n",
    "df = pd.read_csv('C:\\\\Users\\\\A6LBGZZ\\\\Desktop\\\\test.csv')\n",
    "with pd.ExcelWriter ('test123.xlsx') as writer:\n",
    "                df.to_excel(writer, sheet_name = 'sheet1', engine='xlsxwriter', encoding='utf-8')\n",
    "#df.to_excel('C:\\\\Users\\\\A6LBGZZ\\\\Desktop\\\\./FinalOutput1.xlsx', encoding='utf-8')"
   ]
  },
  {
   "cell_type": "code",
   "execution_count": 20,
   "metadata": {},
   "outputs": [
    {
     "name": "stdout",
     "output_type": "stream",
     "text": [
      "true\n"
     ]
    }
   ],
   "source": [
    "a = \"A new row should be displayed and all the required details should be displayed below.\"\n",
    "if (a.find(\"field\") < -1) or (a.find(\"details\") > -1):\n",
    "    print (\"true\")\n",
    "else:\n",
    "    print (\"false\")"
   ]
  },
  {
   "cell_type": "code",
   "execution_count": null,
   "metadata": {},
   "outputs": [],
   "source": [
    "\n",
    "    '''#new\n",
    "    elif (stmt.find(\"should\") > -1) and ('be' in veb_lst) and ((stmt.find(\"field\") < -1) or (stmt.find(\"details\") > -1)):\n",
    "        trnf_pst_stmt = stmt.replace(\"should be\", \"were\")\n",
    "        return trnf_pst_stmt'''\n",
    "    \n",
    "    \n",
    "    #new\n",
    "    '''elif (stmt.find(\"should\") > -1) and ('be' in veb_lst) and ((stmt.find(\"field\") < -1) or (stmt.find(\"details\") > -1)):\n",
    "        print (stmt)\n",
    "        trnf_present_stmt = stmt.replace(\"should be\", \"are\")\n",
    "        return trnf_present_stmt'''"
   ]
  },
  {
   "cell_type": "code",
   "execution_count": 2,
   "metadata": {},
   "outputs": [],
   "source": [
    "from Tkinter import *\n",
    "\n",
    "import tkMessageBox\n",
    "\n",
    "def samplefunction():\n",
    "    print(\"fn executed\")\n",
    "\n",
    "def protocolhandler():\n",
    "    if tkMessageBox.askokcancel(\"Exit\", \"Wanna leave?\"):\n",
    "        \n",
    "        \n",
    "root = Tk()\n",
    "root.protocol(\"WM_DELETE_WINDOW\", protocolhandler)\n",
    "\n",
    "prcsBtn=Button(root, text=\"BROWSE & PROCESS\", command=protocolhandler)\n",
    "prcsBtn.place(bordermode = OUTSIDE, height=50, width=125)\n",
    "\n",
    "root.mainloop()"
   ]
  },
  {
   "cell_type": "code",
   "execution_count": null,
   "metadata": {},
   "outputs": [],
   "source": []
  },
  {
   "cell_type": "code",
   "execution_count": null,
   "metadata": {},
   "outputs": [],
   "source": []
  }
 ],
 "metadata": {
  "kernelspec": {
   "display_name": "Python 2",
   "language": "python",
   "name": "python2"
  },
  "language_info": {
   "codemirror_mode": {
    "name": "ipython",
    "version": 2
   },
   "file_extension": ".py",
   "mimetype": "text/x-python",
   "name": "python",
   "nbconvert_exporter": "python",
   "pygments_lexer": "ipython2",
   "version": "2.7.14"
  }
 },
 "nbformat": 4,
 "nbformat_minor": 2
}
